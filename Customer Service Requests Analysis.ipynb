{
 "cells": [
  {
   "cell_type": "markdown",
   "metadata": {},
   "source": [
    "#### Imorting required libraries"
   ]
  },
  {
   "cell_type": "code",
   "execution_count": 45,
   "metadata": {},
   "outputs": [],
   "source": [
    "import pandas as pd\n",
    "import numpy as np\n",
    "import datetime as dt\n",
    "import matplotlib\n",
    "import matplotlib.pyplot as plt\n",
    "import seaborn as sns\n",
    "%matplotlib inline"
   ]
  },
  {
   "cell_type": "markdown",
   "metadata": {},
   "source": [
    "#### Importing a 311 NYC service request."
   ]
  },
  {
   "cell_type": "code",
   "execution_count": 46,
   "metadata": {},
   "outputs": [
    {
     "name": "stderr",
     "output_type": "stream",
     "text": [
      "/usr/local/lib/python3.7/site-packages/IPython/core/interactiveshell.py:3063: DtypeWarning: Columns (48,49) have mixed types.Specify dtype option on import or set low_memory=False.\n",
      "  interactivity=interactivity, compiler=compiler, result=result)\n"
     ]
    }
   ],
   "source": [
    "data = pd.read_csv(\"311_Service_Requests_from_2010_to_Present.csv\")"
   ]
  },
  {
   "cell_type": "code",
   "execution_count": 47,
   "metadata": {},
   "outputs": [
    {
     "data": {
      "text/plain": [
       "(300698, 53)"
      ]
     },
     "execution_count": 47,
     "metadata": {},
     "output_type": "execute_result"
    }
   ],
   "source": [
    "data.shape"
   ]
  },
  {
   "cell_type": "code",
   "execution_count": 85,
   "metadata": {},
   "outputs": [
    {
     "data": {
      "text/html": [
       "<div>\n",
       "<style scoped>\n",
       "    .dataframe tbody tr th:only-of-type {\n",
       "        vertical-align: middle;\n",
       "    }\n",
       "\n",
       "    .dataframe tbody tr th {\n",
       "        vertical-align: top;\n",
       "    }\n",
       "\n",
       "    .dataframe thead th {\n",
       "        text-align: right;\n",
       "    }\n",
       "</style>\n",
       "<table border=\"1\" class=\"dataframe\">\n",
       "  <thead>\n",
       "    <tr style=\"text-align: right;\">\n",
       "      <th></th>\n",
       "      <th>Unique Key</th>\n",
       "      <th>Created Date</th>\n",
       "      <th>Closed Date</th>\n",
       "      <th>Agency</th>\n",
       "      <th>Agency Name</th>\n",
       "      <th>Complaint Type</th>\n",
       "      <th>Descriptor</th>\n",
       "      <th>Location Type</th>\n",
       "      <th>Incident Zip</th>\n",
       "      <th>Incident Address</th>\n",
       "      <th>...</th>\n",
       "      <th>School City</th>\n",
       "      <th>School State</th>\n",
       "      <th>School Zip</th>\n",
       "      <th>School Not Found</th>\n",
       "      <th>Latitude</th>\n",
       "      <th>Longitude</th>\n",
       "      <th>Location</th>\n",
       "      <th>Request_Closing_Time</th>\n",
       "      <th>Day</th>\n",
       "      <th>Weekend</th>\n",
       "    </tr>\n",
       "  </thead>\n",
       "  <tbody>\n",
       "    <tr>\n",
       "      <th>0</th>\n",
       "      <td>32310363</td>\n",
       "      <td>2015-12-31 23:59:45</td>\n",
       "      <td>2016-01-01 00:55:00</td>\n",
       "      <td>NYPD</td>\n",
       "      <td>New York City Police Department</td>\n",
       "      <td>Noise - Street/Sidewalk</td>\n",
       "      <td>Loud Music/Party</td>\n",
       "      <td>Street/Sidewalk</td>\n",
       "      <td>10034.0</td>\n",
       "      <td>71 VERMILYEA AVENUE</td>\n",
       "      <td>...</td>\n",
       "      <td>Unspecified</td>\n",
       "      <td>Unspecified</td>\n",
       "      <td>Unspecified</td>\n",
       "      <td>N</td>\n",
       "      <td>40.865682</td>\n",
       "      <td>-73.923501</td>\n",
       "      <td>(40.86568153633767, -73.92350095571744)</td>\n",
       "      <td>2.302083</td>\n",
       "      <td>4</td>\n",
       "      <td>0</td>\n",
       "    </tr>\n",
       "    <tr>\n",
       "      <th>1</th>\n",
       "      <td>32309934</td>\n",
       "      <td>2015-12-31 23:59:44</td>\n",
       "      <td>2016-01-01 01:26:00</td>\n",
       "      <td>NYPD</td>\n",
       "      <td>New York City Police Department</td>\n",
       "      <td>Blocked Driveway</td>\n",
       "      <td>No Access</td>\n",
       "      <td>Street/Sidewalk</td>\n",
       "      <td>11105.0</td>\n",
       "      <td>27-07 23 AVENUE</td>\n",
       "      <td>...</td>\n",
       "      <td>Unspecified</td>\n",
       "      <td>Unspecified</td>\n",
       "      <td>Unspecified</td>\n",
       "      <td>N</td>\n",
       "      <td>40.775945</td>\n",
       "      <td>-73.915094</td>\n",
       "      <td>(40.775945312321085, -73.91509393898605)</td>\n",
       "      <td>3.594444</td>\n",
       "      <td>4</td>\n",
       "      <td>0</td>\n",
       "    </tr>\n",
       "    <tr>\n",
       "      <th>2</th>\n",
       "      <td>32309159</td>\n",
       "      <td>2015-12-31 23:59:29</td>\n",
       "      <td>2016-01-01 04:51:00</td>\n",
       "      <td>NYPD</td>\n",
       "      <td>New York City Police Department</td>\n",
       "      <td>Blocked Driveway</td>\n",
       "      <td>No Access</td>\n",
       "      <td>Street/Sidewalk</td>\n",
       "      <td>10458.0</td>\n",
       "      <td>2897 VALENTINE AVENUE</td>\n",
       "      <td>...</td>\n",
       "      <td>Unspecified</td>\n",
       "      <td>Unspecified</td>\n",
       "      <td>Unspecified</td>\n",
       "      <td>N</td>\n",
       "      <td>40.870325</td>\n",
       "      <td>-73.888525</td>\n",
       "      <td>(40.870324522111424, -73.88852464418646)</td>\n",
       "      <td>12.146528</td>\n",
       "      <td>4</td>\n",
       "      <td>0</td>\n",
       "    </tr>\n",
       "    <tr>\n",
       "      <th>3</th>\n",
       "      <td>32305098</td>\n",
       "      <td>2015-12-31 23:57:46</td>\n",
       "      <td>2016-01-01 07:43:00</td>\n",
       "      <td>NYPD</td>\n",
       "      <td>New York City Police Department</td>\n",
       "      <td>Illegal Parking</td>\n",
       "      <td>Commercial Overnight Parking</td>\n",
       "      <td>Street/Sidewalk</td>\n",
       "      <td>10461.0</td>\n",
       "      <td>2940 BAISLEY AVENUE</td>\n",
       "      <td>...</td>\n",
       "      <td>Unspecified</td>\n",
       "      <td>Unspecified</td>\n",
       "      <td>Unspecified</td>\n",
       "      <td>N</td>\n",
       "      <td>40.835994</td>\n",
       "      <td>-73.828379</td>\n",
       "      <td>(40.83599404683083, -73.82837939584206)</td>\n",
       "      <td>19.384722</td>\n",
       "      <td>4</td>\n",
       "      <td>0</td>\n",
       "    </tr>\n",
       "    <tr>\n",
       "      <th>4</th>\n",
       "      <td>32306529</td>\n",
       "      <td>2015-12-31 23:56:58</td>\n",
       "      <td>2016-01-01 03:24:00</td>\n",
       "      <td>NYPD</td>\n",
       "      <td>New York City Police Department</td>\n",
       "      <td>Illegal Parking</td>\n",
       "      <td>Blocked Sidewalk</td>\n",
       "      <td>Street/Sidewalk</td>\n",
       "      <td>11373.0</td>\n",
       "      <td>87-14 57 ROAD</td>\n",
       "      <td>...</td>\n",
       "      <td>Unspecified</td>\n",
       "      <td>Unspecified</td>\n",
       "      <td>Unspecified</td>\n",
       "      <td>N</td>\n",
       "      <td>40.733060</td>\n",
       "      <td>-73.874170</td>\n",
       "      <td>(40.733059618956815, -73.87416975810375)</td>\n",
       "      <td>8.626389</td>\n",
       "      <td>4</td>\n",
       "      <td>0</td>\n",
       "    </tr>\n",
       "  </tbody>\n",
       "</table>\n",
       "<p>5 rows × 42 columns</p>\n",
       "</div>"
      ],
      "text/plain": [
       "   Unique Key        Created Date         Closed Date Agency  \\\n",
       "0    32310363 2015-12-31 23:59:45 2016-01-01 00:55:00   NYPD   \n",
       "1    32309934 2015-12-31 23:59:44 2016-01-01 01:26:00   NYPD   \n",
       "2    32309159 2015-12-31 23:59:29 2016-01-01 04:51:00   NYPD   \n",
       "3    32305098 2015-12-31 23:57:46 2016-01-01 07:43:00   NYPD   \n",
       "4    32306529 2015-12-31 23:56:58 2016-01-01 03:24:00   NYPD   \n",
       "\n",
       "                       Agency Name           Complaint Type  \\\n",
       "0  New York City Police Department  Noise - Street/Sidewalk   \n",
       "1  New York City Police Department         Blocked Driveway   \n",
       "2  New York City Police Department         Blocked Driveway   \n",
       "3  New York City Police Department          Illegal Parking   \n",
       "4  New York City Police Department          Illegal Parking   \n",
       "\n",
       "                     Descriptor    Location Type  Incident Zip  \\\n",
       "0              Loud Music/Party  Street/Sidewalk       10034.0   \n",
       "1                     No Access  Street/Sidewalk       11105.0   \n",
       "2                     No Access  Street/Sidewalk       10458.0   \n",
       "3  Commercial Overnight Parking  Street/Sidewalk       10461.0   \n",
       "4              Blocked Sidewalk  Street/Sidewalk       11373.0   \n",
       "\n",
       "        Incident Address  ...  School City School State   School Zip  \\\n",
       "0    71 VERMILYEA AVENUE  ...  Unspecified  Unspecified  Unspecified   \n",
       "1        27-07 23 AVENUE  ...  Unspecified  Unspecified  Unspecified   \n",
       "2  2897 VALENTINE AVENUE  ...  Unspecified  Unspecified  Unspecified   \n",
       "3    2940 BAISLEY AVENUE  ...  Unspecified  Unspecified  Unspecified   \n",
       "4          87-14 57 ROAD  ...  Unspecified  Unspecified  Unspecified   \n",
       "\n",
       "  School Not Found   Latitude  Longitude  \\\n",
       "0                N  40.865682 -73.923501   \n",
       "1                N  40.775945 -73.915094   \n",
       "2                N  40.870325 -73.888525   \n",
       "3                N  40.835994 -73.828379   \n",
       "4                N  40.733060 -73.874170   \n",
       "\n",
       "                                   Location Request_Closing_Time Day Weekend  \n",
       "0   (40.86568153633767, -73.92350095571744)             2.302083   4       0  \n",
       "1  (40.775945312321085, -73.91509393898605)             3.594444   4       0  \n",
       "2  (40.870324522111424, -73.88852464418646)            12.146528   4       0  \n",
       "3   (40.83599404683083, -73.82837939584206)            19.384722   4       0  \n",
       "4  (40.733059618956815, -73.87416975810375)             8.626389   4       0  \n",
       "\n",
       "[5 rows x 42 columns]"
      ]
     },
     "execution_count": 85,
     "metadata": {},
     "output_type": "execute_result"
    }
   ],
   "source": [
    "data.head()"
   ]
  },
  {
   "cell_type": "markdown",
   "metadata": {},
   "source": [
    "#### Data Cleaning"
   ]
  },
  {
   "cell_type": "code",
   "execution_count": 49,
   "metadata": {},
   "outputs": [
    {
     "data": {
      "text/plain": [
       "Unique Key                             0\n",
       "Created Date                           0\n",
       "Closed Date                         2164\n",
       "Agency                                 0\n",
       "Agency Name                            0\n",
       "Complaint Type                         0\n",
       "Descriptor                          5914\n",
       "Location Type                        131\n",
       "Incident Zip                        2615\n",
       "Incident Address                   44410\n",
       "Street Name                        44410\n",
       "Cross Street 1                     49279\n",
       "Cross Street 2                     49779\n",
       "Intersection Street 1             256840\n",
       "Intersection Street 2             257336\n",
       "Address Type                        2815\n",
       "City                                2614\n",
       "Landmark                          300349\n",
       "Facility Type                       2171\n",
       "Status                                 0\n",
       "Due Date                               3\n",
       "Resolution Description                 0\n",
       "Resolution Action Updated Date      2187\n",
       "Community Board                        0\n",
       "Borough                                0\n",
       "X Coordinate (State Plane)          3540\n",
       "Y Coordinate (State Plane)          3540\n",
       "Park Facility Name                     0\n",
       "Park Borough                           0\n",
       "School Name                            0\n",
       "School Number                          0\n",
       "School Region                          1\n",
       "School Code                            1\n",
       "School Phone Number                    0\n",
       "School Address                         0\n",
       "School City                            0\n",
       "School State                           0\n",
       "School Zip                             1\n",
       "School Not Found                       0\n",
       "School or Citywide Complaint      300698\n",
       "Vehicle Type                      300698\n",
       "Taxi Company Borough              300698\n",
       "Taxi Pick Up Location             300698\n",
       "Bridge Highway Name               300455\n",
       "Bridge Highway Direction          300455\n",
       "Road Ramp                         300485\n",
       "Bridge Highway Segment            300485\n",
       "Garage Lot Name                   300698\n",
       "Ferry Direction                   300697\n",
       "Ferry Terminal Name               300696\n",
       "Latitude                            3540\n",
       "Longitude                           3540\n",
       "Location                            3540\n",
       "dtype: int64"
      ]
     },
     "execution_count": 49,
     "metadata": {},
     "output_type": "execute_result"
    }
   ],
   "source": [
    "#Checking Null values column wise\n",
    "data.isnull().sum()"
   ]
  },
  {
   "cell_type": "code",
   "execution_count": 87,
   "metadata": {},
   "outputs": [
    {
     "data": {
      "text/plain": [
       "Unique Key                        0.000000\n",
       "Created Date                      0.000000\n",
       "Closed Date                       0.000000\n",
       "Agency                            0.000000\n",
       "Agency Name                       0.000000\n",
       "Complaint Type                    0.000000\n",
       "Descriptor                        0.019793\n",
       "Location Type                     0.000429\n",
       "Incident Zip                      0.001698\n",
       "Incident Address                  0.148717\n",
       "Street Name                       0.148717\n",
       "Cross Street 1                    0.159322\n",
       "Cross Street 2                    0.159623\n",
       "Address Type                      0.002368\n",
       "City                              0.001695\n",
       "Facility Type                     0.000050\n",
       "Status                            0.000000\n",
       "Due Date                          0.000003\n",
       "Resolution Description            0.000000\n",
       "Resolution Action Updated Date    0.000131\n",
       "Community Board                   0.000000\n",
       "Borough                           0.000000\n",
       "X Coordinate (State Plane)        0.004797\n",
       "Y Coordinate (State Plane)        0.004797\n",
       "Park Facility Name                0.000000\n",
       "Park Borough                      0.000000\n",
       "School Name                       0.000000\n",
       "School Number                     0.000000\n",
       "School Region                     0.000003\n",
       "School Code                       0.000003\n",
       "School Phone Number               0.000000\n",
       "School Address                    0.000000\n",
       "School City                       0.000000\n",
       "School State                      0.000000\n",
       "School Zip                        0.000003\n",
       "School Not Found                  0.000000\n",
       "Latitude                          0.004797\n",
       "Longitude                         0.004797\n",
       "Location                          0.004797\n",
       "Request_Closing_Time              0.000000\n",
       "Day                               0.000000\n",
       "Weekend                           0.000000\n",
       "dtype: float64"
      ]
     },
     "execution_count": 87,
     "metadata": {},
     "output_type": "execute_result"
    }
   ],
   "source": [
    "data.isnull().mean()"
   ]
  },
  {
   "cell_type": "code",
   "execution_count": 50,
   "metadata": {},
   "outputs": [
    {
     "data": {
      "text/plain": [
       "(300698, 53)"
      ]
     },
     "execution_count": 50,
     "metadata": {},
     "output_type": "execute_result"
    }
   ],
   "source": [
    "data.shape"
   ]
  },
  {
   "cell_type": "code",
   "execution_count": 51,
   "metadata": {},
   "outputs": [],
   "source": [
    "#Dropping columns with more than 80% null values\n",
    "data = data.loc[:, data.isnull().mean() < .8]"
   ]
  },
  {
   "cell_type": "code",
   "execution_count": 52,
   "metadata": {},
   "outputs": [
    {
     "data": {
      "text/plain": [
       "(300698, 39)"
      ]
     },
     "execution_count": 52,
     "metadata": {},
     "output_type": "execute_result"
    }
   ],
   "source": [
    "data.shape"
   ]
  },
  {
   "cell_type": "code",
   "execution_count": 53,
   "metadata": {},
   "outputs": [],
   "source": [
    "#Dropping rows with more than 50% of null values\n",
    "data.dropna(thresh=20,inplace=True)"
   ]
  },
  {
   "cell_type": "code",
   "execution_count": 54,
   "metadata": {},
   "outputs": [
    {
     "data": {
      "text/plain": [
       "(300698, 39)"
      ]
     },
     "execution_count": 54,
     "metadata": {},
     "output_type": "execute_result"
    }
   ],
   "source": [
    "data.shape"
   ]
  },
  {
   "cell_type": "code",
   "execution_count": 55,
   "metadata": {},
   "outputs": [],
   "source": [
    "#Dropping rows with null values for specific columns\n",
    "data.dropna(subset=['Closed Date'],inplace=True) #We are using this column for calculating time elpase b/w request creation and closed"
   ]
  },
  {
   "cell_type": "code",
   "execution_count": 56,
   "metadata": {},
   "outputs": [
    {
     "data": {
      "text/plain": [
       "(298534, 39)"
      ]
     },
     "execution_count": 56,
     "metadata": {},
     "output_type": "execute_result"
    }
   ],
   "source": [
    "data.shape"
   ]
  },
  {
   "cell_type": "markdown",
   "metadata": {},
   "source": [
    "#### Converting Created Date, Closed Date to Datatime data types"
   ]
  },
  {
   "cell_type": "code",
   "execution_count": 57,
   "metadata": {},
   "outputs": [],
   "source": [
    "data['Created Date'] = pd.to_datetime(data['Created Date'])\n",
    "data['Closed Date'] = pd.to_datetime(data['Closed Date'])"
   ]
  },
  {
   "cell_type": "markdown",
   "metadata": {},
   "source": [
    "#### Creating New column with elapsed time b/w creation and closed"
   ]
  },
  {
   "cell_type": "code",
   "execution_count": 58,
   "metadata": {},
   "outputs": [],
   "source": [
    "data['Request_Closing_Time'] = (data['Closed Date'] - data['Created Date']).dt.total_seconds()/(60*24)"
   ]
  },
  {
   "cell_type": "markdown",
   "metadata": {},
   "source": [
    "#### Request_Closing_Time by Location and Complaint Type (Grouping Data)"
   ]
  },
  {
   "cell_type": "code",
   "execution_count": 59,
   "metadata": {},
   "outputs": [],
   "source": [
    "df = data.loc[:,['Location','Complaint Type','Request_Closing_Time']]\n",
    "df = df.groupby(['Location','Complaint Type']).mean() #data['Request_Closing_Time'])"
   ]
  },
  {
   "cell_type": "code",
   "execution_count": 60,
   "metadata": {},
   "outputs": [
    {
     "data": {
      "text/html": [
       "<div>\n",
       "<style scoped>\n",
       "    .dataframe tbody tr th:only-of-type {\n",
       "        vertical-align: middle;\n",
       "    }\n",
       "\n",
       "    .dataframe tbody tr th {\n",
       "        vertical-align: top;\n",
       "    }\n",
       "\n",
       "    .dataframe thead th {\n",
       "        text-align: right;\n",
       "    }\n",
       "</style>\n",
       "<table border=\"1\" class=\"dataframe\">\n",
       "  <thead>\n",
       "    <tr style=\"text-align: right;\">\n",
       "      <th></th>\n",
       "      <th></th>\n",
       "      <th>Request_Closing_Time</th>\n",
       "    </tr>\n",
       "    <tr>\n",
       "      <th>Location</th>\n",
       "      <th>Complaint Type</th>\n",
       "      <th></th>\n",
       "    </tr>\n",
       "  </thead>\n",
       "  <tbody>\n",
       "    <tr>\n",
       "      <th>(40.678429539269835, -73.98361397723242)</th>\n",
       "      <th>Noise - Commercial</th>\n",
       "      <td>0.109028</td>\n",
       "    </tr>\n",
       "    <tr>\n",
       "      <th>(40.76848580086362, -73.91235250532725)</th>\n",
       "      <th>Noise - Vehicle</th>\n",
       "      <td>0.113194</td>\n",
       "    </tr>\n",
       "    <tr>\n",
       "      <th>(40.69371028050496, -73.95499211670034)</th>\n",
       "      <th>Illegal Parking</th>\n",
       "      <td>0.115972</td>\n",
       "    </tr>\n",
       "    <tr>\n",
       "      <th>(40.71598512070559, -73.9509008064274)</th>\n",
       "      <th>Illegal Parking</th>\n",
       "      <td>0.118750</td>\n",
       "    </tr>\n",
       "    <tr>\n",
       "      <th>(40.72895633655987, -74.00074325193769)</th>\n",
       "      <th>Noise - Commercial</th>\n",
       "      <td>0.125000</td>\n",
       "    </tr>\n",
       "    <tr>\n",
       "      <th>...</th>\n",
       "      <th>...</th>\n",
       "      <td>...</td>\n",
       "    </tr>\n",
       "    <tr>\n",
       "      <th>(40.64465625507198, -73.95663234950166)</th>\n",
       "      <th>Derelict Vehicle</th>\n",
       "      <td>501.515625</td>\n",
       "    </tr>\n",
       "    <tr>\n",
       "      <th>(40.64466438582295, -73.95635848114169)</th>\n",
       "      <th>Derelict Vehicle</th>\n",
       "      <td>558.379167</td>\n",
       "    </tr>\n",
       "    <tr>\n",
       "      <th>(40.64496727639598, -73.95897801142875)</th>\n",
       "      <th>Derelict Vehicle</th>\n",
       "      <td>558.425000</td>\n",
       "    </tr>\n",
       "    <tr>\n",
       "      <th>(40.68594971751218, -73.95942153955151)</th>\n",
       "      <th>Noise - Street/Sidewalk</th>\n",
       "      <td>744.648264</td>\n",
       "    </tr>\n",
       "    <tr>\n",
       "      <th>(40.59814521498835, -73.98935198928409)</th>\n",
       "      <th>Illegal Parking</th>\n",
       "      <td>1443.400000</td>\n",
       "    </tr>\n",
       "  </tbody>\n",
       "</table>\n",
       "<p>151508 rows × 1 columns</p>\n",
       "</div>"
      ],
      "text/plain": [
       "                                                                  Request_Closing_Time\n",
       "Location                                 Complaint Type                               \n",
       "(40.678429539269835, -73.98361397723242) Noise - Commercial                   0.109028\n",
       "(40.76848580086362, -73.91235250532725)  Noise - Vehicle                      0.113194\n",
       "(40.69371028050496, -73.95499211670034)  Illegal Parking                      0.115972\n",
       "(40.71598512070559, -73.9509008064274)   Illegal Parking                      0.118750\n",
       "(40.72895633655987, -74.00074325193769)  Noise - Commercial                   0.125000\n",
       "...                                                                                ...\n",
       "(40.64465625507198, -73.95663234950166)  Derelict Vehicle                   501.515625\n",
       "(40.64466438582295, -73.95635848114169)  Derelict Vehicle                   558.379167\n",
       "(40.64496727639598, -73.95897801142875)  Derelict Vehicle                   558.425000\n",
       "(40.68594971751218, -73.95942153955151)  Noise - Street/Sidewalk            744.648264\n",
       "(40.59814521498835, -73.98935198928409)  Illegal Parking                   1443.400000\n",
       "\n",
       "[151508 rows x 1 columns]"
      ]
     },
     "execution_count": 60,
     "metadata": {},
     "output_type": "execute_result"
    }
   ],
   "source": [
    "df = df.sort_values(by='Request_Closing_Time',ascending=True)\n",
    "df"
   ]
  },
  {
   "cell_type": "markdown",
   "metadata": {},
   "source": [
    "### Major insights from the Data"
   ]
  },
  {
   "cell_type": "markdown",
   "metadata": {},
   "source": [
    "#### 1. Based on Complaint types"
   ]
  },
  {
   "cell_type": "code",
   "execution_count": 61,
   "metadata": {},
   "outputs": [
    {
     "data": {
      "text/plain": [
       "<AxesSubplot:>"
      ]
     },
     "execution_count": 61,
     "metadata": {},
     "output_type": "execute_result"
    },
    {
     "data": {
      "image/png": "[encoded data removed]",
      "text/plain": [
       "<Figure size 720x576 with 1 Axes>"
      ]
     },
     "metadata": {
      "needs_background": "light"
     },
     "output_type": "display_data"
    }
   ],
   "source": [
    "plt.figure(figsize=(10,8))\n",
    "data['Complaint Type'].value_counts().plot(kind='bar',)"
   ]
  },
  {
   "cell_type": "markdown",
   "metadata": {},
   "source": [
    "***Insight: Majority of the complaints belong to \"Blocked Driveway\", \"Illegal Parking\", \"Noise-Street/Sidewalk\""
   ]
  },
  {
   "cell_type": "markdown",
   "metadata": {},
   "source": [
    "#### 2. Average time taken to close the complaint - Complaint wise"
   ]
  },
  {
   "cell_type": "code",
   "execution_count": 62,
   "metadata": {},
   "outputs": [],
   "source": [
    "df1 = data.loc[:,['Complaint Type','Request_Closing_Time']]\n",
    "df1 = df1.groupby('Complaint Type').mean()"
   ]
  },
  {
   "cell_type": "code",
   "execution_count": 63,
   "metadata": {},
   "outputs": [
    {
     "data": {
      "text/plain": [
       "<AxesSubplot:xlabel='Complaint Type'>"
      ]
     },
     "execution_count": 63,
     "metadata": {},
     "output_type": "execute_result"
    },
    {
     "data": {
      "image/png": "[encoded data removed]",
      "text/plain": [
       "<Figure size 432x288 with 1 Axes>"
      ]
     },
     "metadata": {
      "needs_background": "light"
     },
     "output_type": "display_data"
    }
   ],
   "source": [
    "df1.plot(kind = 'bar')"
   ]
  },
  {
   "cell_type": "markdown",
   "metadata": {},
   "source": [
    "***Insight: \"Animal in a Park\" complaint took so much time to close compare to other complaints"
   ]
  },
  {
   "cell_type": "code",
   "execution_count": 64,
   "metadata": {},
   "outputs": [],
   "source": [
    "#I will plot same bar char without \"Animal in a Park\"\n",
    "df1 = df1.drop('Animal in a Park')"
   ]
  },
  {
   "cell_type": "code",
   "execution_count": 65,
   "metadata": {},
   "outputs": [
    {
     "data": {
      "text/plain": [
       "<AxesSubplot:xlabel='Complaint Type'>"
      ]
     },
     "execution_count": 65,
     "metadata": {},
     "output_type": "execute_result"
    },
    {
     "data": {
      "image/png": "[encoded data removed]",
      "text/plain": [
       "<Figure size 432x288 with 1 Axes>"
      ]
     },
     "metadata": {
      "needs_background": "light"
     },
     "output_type": "display_data"
    }
   ],
   "source": [
    "df1.plot(kind = 'bar')"
   ]
  },
  {
   "cell_type": "markdown",
   "metadata": {},
   "source": [
    "*** Complaints \"Derelict Vechicle\" and \"Graffiti\" taking more time compare to other complaints"
   ]
  },
  {
   "cell_type": "markdown",
   "metadata": {},
   "source": [
    "#### 3. Complaints on Distribution on Weekday/Weekend basis"
   ]
  },
  {
   "cell_type": "code",
   "execution_count": 66,
   "metadata": {},
   "outputs": [],
   "source": [
    "data['Day'] = data['Created Date'].apply(lambda x: x.isoweekday())"
   ]
  },
  {
   "cell_type": "code",
   "execution_count": 67,
   "metadata": {},
   "outputs": [],
   "source": [
    "data['Weekend'] = data['Day'].apply(lambda x: 1 if x == (6|7) else 0)"
   ]
  },
  {
   "cell_type": "code",
   "execution_count": 68,
   "metadata": {},
   "outputs": [],
   "source": [
    "weekday_avg_complaints = data.Weekend.value_counts()[0]/len(data)\n",
    "weekend_avg_complaints = data.Weekend.value_counts()[1]/len(data)"
   ]
  },
  {
   "cell_type": "code",
   "execution_count": 69,
   "metadata": {},
   "outputs": [
    {
     "data": {
      "text/plain": [
       "<BarContainer object of 2 artists>"
      ]
     },
     "execution_count": 69,
     "metadata": {},
     "output_type": "execute_result"
    },
    {
     "data": {
      "image/png": "[encoded data removed]",
      "text/plain": [
       "<Figure size 432x288 with 1 Axes>"
      ]
     },
     "metadata": {
      "needs_background": "light"
     },
     "output_type": "display_data"
    }
   ],
   "source": [
    "day = [weekday_avg_complaints,weekend_avg_complaints]\n",
    "plt.bar(['Weekday',\"Weekend\"],day)"
   ]
  },
  {
   "cell_type": "markdown",
   "metadata": {},
   "source": [
    "***Insights: More number of complaints were registered on Weekday compare to Weekend"
   ]
  },
  {
   "cell_type": "markdown",
   "metadata": {},
   "source": [
    "#### 4. Complaints on City Level"
   ]
  },
  {
   "cell_type": "code",
   "execution_count": 70,
   "metadata": {},
   "outputs": [
    {
     "data": {
      "image/png": "[encoded data removed]",
      "text/plain": [
       "<Figure size 864x576 with 1 Axes>"
      ]
     },
     "metadata": {
      "needs_background": "light"
     },
     "output_type": "display_data"
    }
   ],
   "source": [
    "plt.figure(figsize=(12,8))\n",
    "data['City'].value_counts().plot(kind='bar')\n",
    "plt.xticks(rotation=90,size=10)\n",
    "plt.show()"
   ]
  },
  {
   "cell_type": "markdown",
   "metadata": {},
   "source": [
    "***Insights: More than 70% of complaints are raised from cities \"Brooklyn\", \"New York\" and \"Bronx\""
   ]
  },
  {
   "cell_type": "markdown",
   "metadata": {},
   "source": [
    "## Hypothesis Testing"
   ]
  },
  {
   "cell_type": "markdown",
   "metadata": {},
   "source": [
    "### 1. Whether the average response time across complaint types is similar or not (overall)"
   ]
  },
  {
   "cell_type": "markdown",
   "metadata": {},
   "source": [
    "#### Null hypothesis(Ho) = Average respone time across complaint types is similar\n",
    "\n",
    "#### Alternate hypothesis(H1) = Average response time across compaint is not similar"
   ]
  },
  {
   "cell_type": "code",
   "execution_count": 71,
   "metadata": {},
   "outputs": [
    {
     "data": {
      "text/plain": [
       "Blocked Driveway             76810\n",
       "Illegal Parking              74532\n",
       "Noise - Street/Sidewalk      48076\n",
       "Noise - Commercial           35247\n",
       "Derelict Vehicle             17588\n",
       "Noise - Vehicle              17033\n",
       "Animal Abuse                  7768\n",
       "Traffic                       4496\n",
       "Homeless Encampment           4416\n",
       "Noise - Park                  4022\n",
       "Vending                       3795\n",
       "Drinking                      1275\n",
       "Noise - House of Worship       929\n",
       "Posting Advertisement          648\n",
       "Urinating in Public            592\n",
       "Bike/Roller/Skate Chronic      424\n",
       "Panhandling                    305\n",
       "Disorderly Youth               286\n",
       "Illegal Fireworks              168\n",
       "Graffiti                       113\n",
       "Agency Issues                    6\n",
       "Squeegee                         4\n",
       "Animal in a Park                 1\n",
       "Name: Complaint Type, dtype: int64"
      ]
     },
     "execution_count": 71,
     "metadata": {},
     "output_type": "execute_result"
    }
   ],
   "source": [
    "data['Complaint Type'].value_counts()"
   ]
  },
  {
   "cell_type": "code",
   "execution_count": 72,
   "metadata": {},
   "outputs": [],
   "source": [
    "#Stastistical test \"Annova\" will be used to compare the means of two or more groups with same number of sample sizes\n",
    "#So I will take 10 samples from each complaint exlcuding last three complaints since their size is less than 10"
   ]
  },
  {
   "cell_type": "code",
   "execution_count": 73,
   "metadata": {},
   "outputs": [],
   "source": [
    "Complaint_list = data['Complaint Type'].unique().tolist()"
   ]
  },
  {
   "cell_type": "code",
   "execution_count": 74,
   "metadata": {},
   "outputs": [
    {
     "data": {
      "text/plain": [
       "['Noise - Street/Sidewalk',\n",
       " 'Blocked Driveway',\n",
       " 'Illegal Parking',\n",
       " 'Derelict Vehicle',\n",
       " 'Noise - Commercial',\n",
       " 'Noise - House of Worship',\n",
       " 'Posting Advertisement',\n",
       " 'Noise - Vehicle',\n",
       " 'Animal Abuse',\n",
       " 'Vending',\n",
       " 'Traffic',\n",
       " 'Drinking',\n",
       " 'Bike/Roller/Skate Chronic',\n",
       " 'Panhandling',\n",
       " 'Noise - Park',\n",
       " 'Homeless Encampment',\n",
       " 'Urinating in Public',\n",
       " 'Graffiti',\n",
       " 'Disorderly Youth',\n",
       " 'Illegal Fireworks']"
      ]
     },
     "execution_count": 74,
     "metadata": {},
     "output_type": "execute_result"
    }
   ],
   "source": [
    "Complaint_list = Complaint_list[:-3]#Excluding complaints which have size less than 10\n",
    "Complaint_list"
   ]
  },
  {
   "cell_type": "code",
   "execution_count": 75,
   "metadata": {},
   "outputs": [],
   "source": [
    "temp_list = []\n",
    "for i in Complaint_list:\n",
    "    temp_list = temp_list + (data[data['Complaint Type'] == i]['Request_Closing_Time'][0:10].tolist())"
   ]
  },
  {
   "cell_type": "code",
   "execution_count": 76,
   "metadata": {},
   "outputs": [],
   "source": [
    "#Created list for 20 complaints\n",
    "x1 = temp_list[0:10]\n",
    "x2 = temp_list[10:20]\n",
    "x3 = temp_list[20:30]\n",
    "x4 = temp_list[30:40]\n",
    "x5 = temp_list[40:50]\n",
    "x6 = temp_list[50:60]\n",
    "x7 = temp_list[60:70]\n",
    "x8 = temp_list[70:80]\n",
    "x9 = temp_list[80:90]\n",
    "x10 = temp_list[90:100]\n",
    "x11 = temp_list[100:110]\n",
    "x12 = temp_list[110:120]\n",
    "x13 = temp_list[120:130]\n",
    "x14 = temp_list[130:140]\n",
    "x15 = temp_list[140:150]\n",
    "x16 = temp_list[150:160]\n",
    "x17 = temp_list[160:170]\n",
    "x18 = temp_list[170:180]\n",
    "x19 = temp_list[180:190]\n",
    "x20 = temp_list[190:200]"
   ]
  },
  {
   "cell_type": "code",
   "execution_count": 77,
   "metadata": {},
   "outputs": [
    {
     "name": "stdout",
     "output_type": "stream",
     "text": [
      "2.274914912564007 0.0027960269067375827\n"
     ]
    }
   ],
   "source": [
    "import scipy.stats as stats\n",
    "# stats f_oneway functions takes the groups as input and returns F and P-value\n",
    "fvalue, pvalue = stats.f_oneway(x1,x2,x3,x4,x5,x6,x7,x8,x9,x10,x11,x12,x13,x14,x15,x16,x17,x18,x19,x20)\n",
    "print(fvalue, pvalue)"
   ]
  },
  {
   "cell_type": "markdown",
   "metadata": {},
   "source": [
    "#### Conclusion: P value is 0.002 less than 0.05 hence rejected Null hypothesis and accepted alternate hypothesis (Average response time across compaint is not similar)"
   ]
  },
  {
   "cell_type": "markdown",
   "metadata": {},
   "source": [
    "### 2. Are the type of complaint or service requested and location related?"
   ]
  },
  {
   "cell_type": "markdown",
   "metadata": {},
   "source": [
    "#### Null Hypotehsis: Type of Complaint and Location are related\n",
    "#### Alterante Hypothesis: Type of Complaint and Location are not related"
   ]
  },
  {
   "cell_type": "code",
   "execution_count": 78,
   "metadata": {},
   "outputs": [
    {
     "data": {
      "text/plain": [
       "Index(['BROOKLYN', 'NEW YORK', 'BRONX', 'STATEN ISLAND', 'JAMAICA', 'ASTORIA',\n",
       "       'FLUSHING', 'RIDGEWOOD', 'CORONA', 'WOODSIDE'],\n",
       "      dtype='object')"
      ]
     },
     "execution_count": 78,
     "metadata": {},
     "output_type": "execute_result"
    }
   ],
   "source": [
    "city_names =  (data['City'].value_counts()[0:10]).index\n",
    "city_names"
   ]
  },
  {
   "cell_type": "code",
   "execution_count": 79,
   "metadata": {},
   "outputs": [
    {
     "data": {
      "text/html": [
       "<div>\n",
       "<style scoped>\n",
       "    .dataframe tbody tr th:only-of-type {\n",
       "        vertical-align: middle;\n",
       "    }\n",
       "\n",
       "    .dataframe tbody tr th {\n",
       "        vertical-align: top;\n",
       "    }\n",
       "\n",
       "    .dataframe thead th {\n",
       "        text-align: right;\n",
       "    }\n",
       "</style>\n",
       "<table border=\"1\" class=\"dataframe\">\n",
       "  <thead>\n",
       "    <tr style=\"text-align: right;\">\n",
       "      <th>City</th>\n",
       "      <th>ARVERNE</th>\n",
       "      <th>ASTORIA</th>\n",
       "      <th>Astoria</th>\n",
       "      <th>BAYSIDE</th>\n",
       "      <th>BELLEROSE</th>\n",
       "      <th>BREEZY POINT</th>\n",
       "      <th>BRONX</th>\n",
       "      <th>BROOKLYN</th>\n",
       "      <th>CAMBRIA HEIGHTS</th>\n",
       "      <th>CENTRAL PARK</th>\n",
       "      <th>...</th>\n",
       "      <th>SOUTH OZONE PARK</th>\n",
       "      <th>SOUTH RICHMOND HILL</th>\n",
       "      <th>SPRINGFIELD GARDENS</th>\n",
       "      <th>STATEN ISLAND</th>\n",
       "      <th>SUNNYSIDE</th>\n",
       "      <th>WHITESTONE</th>\n",
       "      <th>WOODHAVEN</th>\n",
       "      <th>WOODSIDE</th>\n",
       "      <th>Woodside</th>\n",
       "      <th>All</th>\n",
       "    </tr>\n",
       "    <tr>\n",
       "      <th>Complaint Type</th>\n",
       "      <th></th>\n",
       "      <th></th>\n",
       "      <th></th>\n",
       "      <th></th>\n",
       "      <th></th>\n",
       "      <th></th>\n",
       "      <th></th>\n",
       "      <th></th>\n",
       "      <th></th>\n",
       "      <th></th>\n",
       "      <th></th>\n",
       "      <th></th>\n",
       "      <th></th>\n",
       "      <th></th>\n",
       "      <th></th>\n",
       "      <th></th>\n",
       "      <th></th>\n",
       "      <th></th>\n",
       "      <th></th>\n",
       "      <th></th>\n",
       "      <th></th>\n",
       "    </tr>\n",
       "  </thead>\n",
       "  <tbody>\n",
       "    <tr>\n",
       "      <th>Animal Abuse</th>\n",
       "      <td>38</td>\n",
       "      <td>125</td>\n",
       "      <td>0</td>\n",
       "      <td>37</td>\n",
       "      <td>7</td>\n",
       "      <td>2</td>\n",
       "      <td>1415</td>\n",
       "      <td>2394</td>\n",
       "      <td>11</td>\n",
       "      <td>0</td>\n",
       "      <td>...</td>\n",
       "      <td>55</td>\n",
       "      <td>26</td>\n",
       "      <td>24</td>\n",
       "      <td>557</td>\n",
       "      <td>35</td>\n",
       "      <td>28</td>\n",
       "      <td>45</td>\n",
       "      <td>69</td>\n",
       "      <td>0</td>\n",
       "      <td>7767</td>\n",
       "    </tr>\n",
       "    <tr>\n",
       "      <th>Animal in a Park</th>\n",
       "      <td>0</td>\n",
       "      <td>0</td>\n",
       "      <td>0</td>\n",
       "      <td>0</td>\n",
       "      <td>0</td>\n",
       "      <td>0</td>\n",
       "      <td>0</td>\n",
       "      <td>0</td>\n",
       "      <td>0</td>\n",
       "      <td>0</td>\n",
       "      <td>...</td>\n",
       "      <td>0</td>\n",
       "      <td>0</td>\n",
       "      <td>0</td>\n",
       "      <td>0</td>\n",
       "      <td>0</td>\n",
       "      <td>0</td>\n",
       "      <td>0</td>\n",
       "      <td>0</td>\n",
       "      <td>0</td>\n",
       "      <td>1</td>\n",
       "    </tr>\n",
       "    <tr>\n",
       "      <th>Bike/Roller/Skate Chronic</th>\n",
       "      <td>0</td>\n",
       "      <td>15</td>\n",
       "      <td>0</td>\n",
       "      <td>0</td>\n",
       "      <td>1</td>\n",
       "      <td>0</td>\n",
       "      <td>20</td>\n",
       "      <td>111</td>\n",
       "      <td>0</td>\n",
       "      <td>0</td>\n",
       "      <td>...</td>\n",
       "      <td>1</td>\n",
       "      <td>1</td>\n",
       "      <td>0</td>\n",
       "      <td>7</td>\n",
       "      <td>2</td>\n",
       "      <td>4</td>\n",
       "      <td>2</td>\n",
       "      <td>4</td>\n",
       "      <td>0</td>\n",
       "      <td>422</td>\n",
       "    </tr>\n",
       "    <tr>\n",
       "      <th>Blocked Driveway</th>\n",
       "      <td>35</td>\n",
       "      <td>2618</td>\n",
       "      <td>116</td>\n",
       "      <td>377</td>\n",
       "      <td>95</td>\n",
       "      <td>3</td>\n",
       "      <td>12754</td>\n",
       "      <td>28147</td>\n",
       "      <td>147</td>\n",
       "      <td>0</td>\n",
       "      <td>...</td>\n",
       "      <td>942</td>\n",
       "      <td>1548</td>\n",
       "      <td>262</td>\n",
       "      <td>2142</td>\n",
       "      <td>206</td>\n",
       "      <td>208</td>\n",
       "      <td>1059</td>\n",
       "      <td>1613</td>\n",
       "      <td>11</td>\n",
       "      <td>76752</td>\n",
       "    </tr>\n",
       "    <tr>\n",
       "      <th>Derelict Vehicle</th>\n",
       "      <td>27</td>\n",
       "      <td>351</td>\n",
       "      <td>12</td>\n",
       "      <td>198</td>\n",
       "      <td>89</td>\n",
       "      <td>3</td>\n",
       "      <td>1952</td>\n",
       "      <td>5179</td>\n",
       "      <td>115</td>\n",
       "      <td>0</td>\n",
       "      <td>...</td>\n",
       "      <td>358</td>\n",
       "      <td>289</td>\n",
       "      <td>210</td>\n",
       "      <td>1766</td>\n",
       "      <td>10</td>\n",
       "      <td>227</td>\n",
       "      <td>308</td>\n",
       "      <td>247</td>\n",
       "      <td>2</td>\n",
       "      <td>17542</td>\n",
       "    </tr>\n",
       "    <tr>\n",
       "      <th>Disorderly Youth</th>\n",
       "      <td>2</td>\n",
       "      <td>3</td>\n",
       "      <td>0</td>\n",
       "      <td>1</td>\n",
       "      <td>2</td>\n",
       "      <td>0</td>\n",
       "      <td>63</td>\n",
       "      <td>72</td>\n",
       "      <td>0</td>\n",
       "      <td>0</td>\n",
       "      <td>...</td>\n",
       "      <td>2</td>\n",
       "      <td>2</td>\n",
       "      <td>0</td>\n",
       "      <td>23</td>\n",
       "      <td>2</td>\n",
       "      <td>1</td>\n",
       "      <td>0</td>\n",
       "      <td>1</td>\n",
       "      <td>0</td>\n",
       "      <td>286</td>\n",
       "    </tr>\n",
       "    <tr>\n",
       "      <th>Drinking</th>\n",
       "      <td>1</td>\n",
       "      <td>35</td>\n",
       "      <td>0</td>\n",
       "      <td>1</td>\n",
       "      <td>1</td>\n",
       "      <td>1</td>\n",
       "      <td>188</td>\n",
       "      <td>257</td>\n",
       "      <td>0</td>\n",
       "      <td>0</td>\n",
       "      <td>...</td>\n",
       "      <td>13</td>\n",
       "      <td>23</td>\n",
       "      <td>6</td>\n",
       "      <td>175</td>\n",
       "      <td>10</td>\n",
       "      <td>2</td>\n",
       "      <td>3</td>\n",
       "      <td>15</td>\n",
       "      <td>0</td>\n",
       "      <td>1272</td>\n",
       "    </tr>\n",
       "    <tr>\n",
       "      <th>Graffiti</th>\n",
       "      <td>1</td>\n",
       "      <td>4</td>\n",
       "      <td>0</td>\n",
       "      <td>3</td>\n",
       "      <td>0</td>\n",
       "      <td>0</td>\n",
       "      <td>9</td>\n",
       "      <td>43</td>\n",
       "      <td>0</td>\n",
       "      <td>0</td>\n",
       "      <td>...</td>\n",
       "      <td>0</td>\n",
       "      <td>0</td>\n",
       "      <td>0</td>\n",
       "      <td>2</td>\n",
       "      <td>1</td>\n",
       "      <td>1</td>\n",
       "      <td>0</td>\n",
       "      <td>3</td>\n",
       "      <td>0</td>\n",
       "      <td>113</td>\n",
       "    </tr>\n",
       "    <tr>\n",
       "      <th>Homeless Encampment</th>\n",
       "      <td>4</td>\n",
       "      <td>32</td>\n",
       "      <td>0</td>\n",
       "      <td>2</td>\n",
       "      <td>1</td>\n",
       "      <td>0</td>\n",
       "      <td>247</td>\n",
       "      <td>857</td>\n",
       "      <td>5</td>\n",
       "      <td>0</td>\n",
       "      <td>...</td>\n",
       "      <td>4</td>\n",
       "      <td>11</td>\n",
       "      <td>5</td>\n",
       "      <td>71</td>\n",
       "      <td>11</td>\n",
       "      <td>0</td>\n",
       "      <td>9</td>\n",
       "      <td>33</td>\n",
       "      <td>0</td>\n",
       "      <td>4415</td>\n",
       "    </tr>\n",
       "    <tr>\n",
       "      <th>Illegal Fireworks</th>\n",
       "      <td>0</td>\n",
       "      <td>4</td>\n",
       "      <td>0</td>\n",
       "      <td>0</td>\n",
       "      <td>1</td>\n",
       "      <td>0</td>\n",
       "      <td>24</td>\n",
       "      <td>61</td>\n",
       "      <td>1</td>\n",
       "      <td>0</td>\n",
       "      <td>...</td>\n",
       "      <td>1</td>\n",
       "      <td>2</td>\n",
       "      <td>1</td>\n",
       "      <td>10</td>\n",
       "      <td>0</td>\n",
       "      <td>1</td>\n",
       "      <td>0</td>\n",
       "      <td>1</td>\n",
       "      <td>0</td>\n",
       "      <td>168</td>\n",
       "    </tr>\n",
       "    <tr>\n",
       "      <th>Illegal Parking</th>\n",
       "      <td>58</td>\n",
       "      <td>1068</td>\n",
       "      <td>213</td>\n",
       "      <td>514</td>\n",
       "      <td>106</td>\n",
       "      <td>15</td>\n",
       "      <td>7859</td>\n",
       "      <td>27461</td>\n",
       "      <td>76</td>\n",
       "      <td>2</td>\n",
       "      <td>...</td>\n",
       "      <td>494</td>\n",
       "      <td>462</td>\n",
       "      <td>238</td>\n",
       "      <td>4886</td>\n",
       "      <td>122</td>\n",
       "      <td>525</td>\n",
       "      <td>682</td>\n",
       "      <td>891</td>\n",
       "      <td>100</td>\n",
       "      <td>74311</td>\n",
       "    </tr>\n",
       "    <tr>\n",
       "      <th>Noise - Commercial</th>\n",
       "      <td>2</td>\n",
       "      <td>1293</td>\n",
       "      <td>261</td>\n",
       "      <td>40</td>\n",
       "      <td>37</td>\n",
       "      <td>4</td>\n",
       "      <td>2433</td>\n",
       "      <td>11458</td>\n",
       "      <td>12</td>\n",
       "      <td>0</td>\n",
       "      <td>...</td>\n",
       "      <td>70</td>\n",
       "      <td>198</td>\n",
       "      <td>36</td>\n",
       "      <td>677</td>\n",
       "      <td>161</td>\n",
       "      <td>16</td>\n",
       "      <td>175</td>\n",
       "      <td>209</td>\n",
       "      <td>2</td>\n",
       "      <td>35185</td>\n",
       "    </tr>\n",
       "    <tr>\n",
       "      <th>Noise - House of Worship</th>\n",
       "      <td>11</td>\n",
       "      <td>19</td>\n",
       "      <td>0</td>\n",
       "      <td>2</td>\n",
       "      <td>1</td>\n",
       "      <td>0</td>\n",
       "      <td>79</td>\n",
       "      <td>340</td>\n",
       "      <td>2</td>\n",
       "      <td>0</td>\n",
       "      <td>...</td>\n",
       "      <td>3</td>\n",
       "      <td>3</td>\n",
       "      <td>1</td>\n",
       "      <td>17</td>\n",
       "      <td>0</td>\n",
       "      <td>0</td>\n",
       "      <td>3</td>\n",
       "      <td>3</td>\n",
       "      <td>0</td>\n",
       "      <td>929</td>\n",
       "    </tr>\n",
       "    <tr>\n",
       "      <th>Noise - Park</th>\n",
       "      <td>2</td>\n",
       "      <td>61</td>\n",
       "      <td>0</td>\n",
       "      <td>4</td>\n",
       "      <td>1</td>\n",
       "      <td>0</td>\n",
       "      <td>547</td>\n",
       "      <td>1555</td>\n",
       "      <td>0</td>\n",
       "      <td>0</td>\n",
       "      <td>...</td>\n",
       "      <td>4</td>\n",
       "      <td>2</td>\n",
       "      <td>1</td>\n",
       "      <td>67</td>\n",
       "      <td>15</td>\n",
       "      <td>6</td>\n",
       "      <td>3</td>\n",
       "      <td>38</td>\n",
       "      <td>0</td>\n",
       "      <td>4015</td>\n",
       "    </tr>\n",
       "    <tr>\n",
       "      <th>Noise - Street/Sidewalk</th>\n",
       "      <td>29</td>\n",
       "      <td>386</td>\n",
       "      <td>114</td>\n",
       "      <td>15</td>\n",
       "      <td>13</td>\n",
       "      <td>1</td>\n",
       "      <td>8890</td>\n",
       "      <td>13354</td>\n",
       "      <td>25</td>\n",
       "      <td>95</td>\n",
       "      <td>...</td>\n",
       "      <td>105</td>\n",
       "      <td>91</td>\n",
       "      <td>38</td>\n",
       "      <td>816</td>\n",
       "      <td>65</td>\n",
       "      <td>33</td>\n",
       "      <td>86</td>\n",
       "      <td>250</td>\n",
       "      <td>5</td>\n",
       "      <td>47986</td>\n",
       "    </tr>\n",
       "    <tr>\n",
       "      <th>Noise - Vehicle</th>\n",
       "      <td>7</td>\n",
       "      <td>204</td>\n",
       "      <td>0</td>\n",
       "      <td>16</td>\n",
       "      <td>10</td>\n",
       "      <td>1</td>\n",
       "      <td>3396</td>\n",
       "      <td>5176</td>\n",
       "      <td>77</td>\n",
       "      <td>0</td>\n",
       "      <td>...</td>\n",
       "      <td>85</td>\n",
       "      <td>81</td>\n",
       "      <td>42</td>\n",
       "      <td>356</td>\n",
       "      <td>48</td>\n",
       "      <td>28</td>\n",
       "      <td>74</td>\n",
       "      <td>105</td>\n",
       "      <td>0</td>\n",
       "      <td>17027</td>\n",
       "    </tr>\n",
       "    <tr>\n",
       "      <th>Panhandling</th>\n",
       "      <td>1</td>\n",
       "      <td>1</td>\n",
       "      <td>0</td>\n",
       "      <td>0</td>\n",
       "      <td>1</td>\n",
       "      <td>0</td>\n",
       "      <td>19</td>\n",
       "      <td>49</td>\n",
       "      <td>0</td>\n",
       "      <td>0</td>\n",
       "      <td>...</td>\n",
       "      <td>0</td>\n",
       "      <td>0</td>\n",
       "      <td>2</td>\n",
       "      <td>12</td>\n",
       "      <td>0</td>\n",
       "      <td>0</td>\n",
       "      <td>0</td>\n",
       "      <td>0</td>\n",
       "      <td>0</td>\n",
       "      <td>305</td>\n",
       "    </tr>\n",
       "    <tr>\n",
       "      <th>Posting Advertisement</th>\n",
       "      <td>0</td>\n",
       "      <td>1</td>\n",
       "      <td>0</td>\n",
       "      <td>0</td>\n",
       "      <td>1</td>\n",
       "      <td>0</td>\n",
       "      <td>17</td>\n",
       "      <td>45</td>\n",
       "      <td>0</td>\n",
       "      <td>0</td>\n",
       "      <td>...</td>\n",
       "      <td>1</td>\n",
       "      <td>0</td>\n",
       "      <td>2</td>\n",
       "      <td>515</td>\n",
       "      <td>2</td>\n",
       "      <td>0</td>\n",
       "      <td>0</td>\n",
       "      <td>0</td>\n",
       "      <td>0</td>\n",
       "      <td>648</td>\n",
       "    </tr>\n",
       "    <tr>\n",
       "      <th>Squeegee</th>\n",
       "      <td>0</td>\n",
       "      <td>0</td>\n",
       "      <td>0</td>\n",
       "      <td>0</td>\n",
       "      <td>0</td>\n",
       "      <td>0</td>\n",
       "      <td>0</td>\n",
       "      <td>0</td>\n",
       "      <td>0</td>\n",
       "      <td>0</td>\n",
       "      <td>...</td>\n",
       "      <td>0</td>\n",
       "      <td>0</td>\n",
       "      <td>0</td>\n",
       "      <td>0</td>\n",
       "      <td>0</td>\n",
       "      <td>0</td>\n",
       "      <td>0</td>\n",
       "      <td>0</td>\n",
       "      <td>0</td>\n",
       "      <td>4</td>\n",
       "    </tr>\n",
       "    <tr>\n",
       "      <th>Traffic</th>\n",
       "      <td>0</td>\n",
       "      <td>47</td>\n",
       "      <td>0</td>\n",
       "      <td>9</td>\n",
       "      <td>7</td>\n",
       "      <td>0</td>\n",
       "      <td>355</td>\n",
       "      <td>1085</td>\n",
       "      <td>6</td>\n",
       "      <td>0</td>\n",
       "      <td>...</td>\n",
       "      <td>28</td>\n",
       "      <td>11</td>\n",
       "      <td>11</td>\n",
       "      <td>200</td>\n",
       "      <td>16</td>\n",
       "      <td>17</td>\n",
       "      <td>6</td>\n",
       "      <td>39</td>\n",
       "      <td>0</td>\n",
       "      <td>4494</td>\n",
       "    </tr>\n",
       "    <tr>\n",
       "      <th>Urinating in Public</th>\n",
       "      <td>1</td>\n",
       "      <td>9</td>\n",
       "      <td>0</td>\n",
       "      <td>0</td>\n",
       "      <td>1</td>\n",
       "      <td>0</td>\n",
       "      <td>51</td>\n",
       "      <td>136</td>\n",
       "      <td>0</td>\n",
       "      <td>0</td>\n",
       "      <td>...</td>\n",
       "      <td>2</td>\n",
       "      <td>0</td>\n",
       "      <td>3</td>\n",
       "      <td>14</td>\n",
       "      <td>2</td>\n",
       "      <td>0</td>\n",
       "      <td>2</td>\n",
       "      <td>8</td>\n",
       "      <td>0</td>\n",
       "      <td>592</td>\n",
       "    </tr>\n",
       "    <tr>\n",
       "      <th>Vending</th>\n",
       "      <td>1</td>\n",
       "      <td>54</td>\n",
       "      <td>0</td>\n",
       "      <td>2</td>\n",
       "      <td>0</td>\n",
       "      <td>0</td>\n",
       "      <td>379</td>\n",
       "      <td>515</td>\n",
       "      <td>0</td>\n",
       "      <td>0</td>\n",
       "      <td>...</td>\n",
       "      <td>5</td>\n",
       "      <td>24</td>\n",
       "      <td>1</td>\n",
       "      <td>25</td>\n",
       "      <td>15</td>\n",
       "      <td>1</td>\n",
       "      <td>6</td>\n",
       "      <td>15</td>\n",
       "      <td>0</td>\n",
       "      <td>3794</td>\n",
       "    </tr>\n",
       "    <tr>\n",
       "      <th>All</th>\n",
       "      <td>220</td>\n",
       "      <td>6330</td>\n",
       "      <td>716</td>\n",
       "      <td>1221</td>\n",
       "      <td>375</td>\n",
       "      <td>30</td>\n",
       "      <td>40697</td>\n",
       "      <td>98295</td>\n",
       "      <td>477</td>\n",
       "      <td>97</td>\n",
       "      <td>...</td>\n",
       "      <td>2173</td>\n",
       "      <td>2774</td>\n",
       "      <td>883</td>\n",
       "      <td>12338</td>\n",
       "      <td>723</td>\n",
       "      <td>1098</td>\n",
       "      <td>2463</td>\n",
       "      <td>3544</td>\n",
       "      <td>120</td>\n",
       "      <td>298028</td>\n",
       "    </tr>\n",
       "  </tbody>\n",
       "</table>\n",
       "<p>23 rows × 54 columns</p>\n",
       "</div>"
      ],
      "text/plain": [
       "City                       ARVERNE  ASTORIA  Astoria  BAYSIDE  BELLEROSE  \\\n",
       "Complaint Type                                                             \n",
       "Animal Abuse                    38      125        0       37          7   \n",
       "Animal in a Park                 0        0        0        0          0   \n",
       "Bike/Roller/Skate Chronic        0       15        0        0          1   \n",
       "Blocked Driveway                35     2618      116      377         95   \n",
       "Derelict Vehicle                27      351       12      198         89   \n",
       "Disorderly Youth                 2        3        0        1          2   \n",
       "Drinking                         1       35        0        1          1   \n",
       "Graffiti                         1        4        0        3          0   \n",
       "Homeless Encampment              4       32        0        2          1   \n",
       "Illegal Fireworks                0        4        0        0          1   \n",
       "Illegal Parking                 58     1068      213      514        106   \n",
       "Noise - Commercial               2     1293      261       40         37   \n",
       "Noise - House of Worship        11       19        0        2          1   \n",
       "Noise - Park                     2       61        0        4          1   \n",
       "Noise - Street/Sidewalk         29      386      114       15         13   \n",
       "Noise - Vehicle                  7      204        0       16         10   \n",
       "Panhandling                      1        1        0        0          1   \n",
       "Posting Advertisement            0        1        0        0          1   \n",
       "Squeegee                         0        0        0        0          0   \n",
       "Traffic                          0       47        0        9          7   \n",
       "Urinating in Public              1        9        0        0          1   \n",
       "Vending                          1       54        0        2          0   \n",
       "All                            220     6330      716     1221        375   \n",
       "\n",
       "City                       BREEZY POINT  BRONX  BROOKLYN  CAMBRIA HEIGHTS  \\\n",
       "Complaint Type                                                              \n",
       "Animal Abuse                          2   1415      2394               11   \n",
       "Animal in a Park                      0      0         0                0   \n",
       "Bike/Roller/Skate Chronic             0     20       111                0   \n",
       "Blocked Driveway                      3  12754     28147              147   \n",
       "Derelict Vehicle                      3   1952      5179              115   \n",
       "Disorderly Youth                      0     63        72                0   \n",
       "Drinking                              1    188       257                0   \n",
       "Graffiti                              0      9        43                0   \n",
       "Homeless Encampment                   0    247       857                5   \n",
       "Illegal Fireworks                     0     24        61                1   \n",
       "Illegal Parking                      15   7859     27461               76   \n",
       "Noise - Commercial                    4   2433     11458               12   \n",
       "Noise - House of Worship              0     79       340                2   \n",
       "Noise - Park                          0    547      1555                0   \n",
       "Noise - Street/Sidewalk               1   8890     13354               25   \n",
       "Noise - Vehicle                       1   3396      5176               77   \n",
       "Panhandling                           0     19        49                0   \n",
       "Posting Advertisement                 0     17        45                0   \n",
       "Squeegee                              0      0         0                0   \n",
       "Traffic                               0    355      1085                6   \n",
       "Urinating in Public                   0     51       136                0   \n",
       "Vending                               0    379       515                0   \n",
       "All                                  30  40697     98295              477   \n",
       "\n",
       "City                       CENTRAL PARK  ...  SOUTH OZONE PARK  \\\n",
       "Complaint Type                           ...                     \n",
       "Animal Abuse                          0  ...                55   \n",
       "Animal in a Park                      0  ...                 0   \n",
       "Bike/Roller/Skate Chronic             0  ...                 1   \n",
       "Blocked Driveway                      0  ...               942   \n",
       "Derelict Vehicle                      0  ...               358   \n",
       "Disorderly Youth                      0  ...                 2   \n",
       "Drinking                              0  ...                13   \n",
       "Graffiti                              0  ...                 0   \n",
       "Homeless Encampment                   0  ...                 4   \n",
       "Illegal Fireworks                     0  ...                 1   \n",
       "Illegal Parking                       2  ...               494   \n",
       "Noise - Commercial                    0  ...                70   \n",
       "Noise - House of Worship              0  ...                 3   \n",
       "Noise - Park                          0  ...                 4   \n",
       "Noise - Street/Sidewalk              95  ...               105   \n",
       "Noise - Vehicle                       0  ...                85   \n",
       "Panhandling                           0  ...                 0   \n",
       "Posting Advertisement                 0  ...                 1   \n",
       "Squeegee                              0  ...                 0   \n",
       "Traffic                               0  ...                28   \n",
       "Urinating in Public                   0  ...                 2   \n",
       "Vending                               0  ...                 5   \n",
       "All                                  97  ...              2173   \n",
       "\n",
       "City                       SOUTH RICHMOND HILL  SPRINGFIELD GARDENS  \\\n",
       "Complaint Type                                                        \n",
       "Animal Abuse                                26                   24   \n",
       "Animal in a Park                             0                    0   \n",
       "Bike/Roller/Skate Chronic                    1                    0   \n",
       "Blocked Driveway                          1548                  262   \n",
       "Derelict Vehicle                           289                  210   \n",
       "Disorderly Youth                             2                    0   \n",
       "Drinking                                    23                    6   \n",
       "Graffiti                                     0                    0   \n",
       "Homeless Encampment                         11                    5   \n",
       "Illegal Fireworks                            2                    1   \n",
       "Illegal Parking                            462                  238   \n",
       "Noise - Commercial                         198                   36   \n",
       "Noise - House of Worship                     3                    1   \n",
       "Noise - Park                                 2                    1   \n",
       "Noise - Street/Sidewalk                     91                   38   \n",
       "Noise - Vehicle                             81                   42   \n",
       "Panhandling                                  0                    2   \n",
       "Posting Advertisement                        0                    2   \n",
       "Squeegee                                     0                    0   \n",
       "Traffic                                     11                   11   \n",
       "Urinating in Public                          0                    3   \n",
       "Vending                                     24                    1   \n",
       "All                                       2774                  883   \n",
       "\n",
       "City                       STATEN ISLAND  SUNNYSIDE  WHITESTONE  WOODHAVEN  \\\n",
       "Complaint Type                                                               \n",
       "Animal Abuse                         557         35          28         45   \n",
       "Animal in a Park                       0          0           0          0   \n",
       "Bike/Roller/Skate Chronic              7          2           4          2   \n",
       "Blocked Driveway                    2142        206         208       1059   \n",
       "Derelict Vehicle                    1766         10         227        308   \n",
       "Disorderly Youth                      23          2           1          0   \n",
       "Drinking                             175         10           2          3   \n",
       "Graffiti                               2          1           1          0   \n",
       "Homeless Encampment                   71         11           0          9   \n",
       "Illegal Fireworks                     10          0           1          0   \n",
       "Illegal Parking                     4886        122         525        682   \n",
       "Noise - Commercial                   677        161          16        175   \n",
       "Noise - House of Worship              17          0           0          3   \n",
       "Noise - Park                          67         15           6          3   \n",
       "Noise - Street/Sidewalk              816         65          33         86   \n",
       "Noise - Vehicle                      356         48          28         74   \n",
       "Panhandling                           12          0           0          0   \n",
       "Posting Advertisement                515          2           0          0   \n",
       "Squeegee                               0          0           0          0   \n",
       "Traffic                              200         16          17          6   \n",
       "Urinating in Public                   14          2           0          2   \n",
       "Vending                               25         15           1          6   \n",
       "All                                12338        723        1098       2463   \n",
       "\n",
       "City                       WOODSIDE  Woodside     All  \n",
       "Complaint Type                                         \n",
       "Animal Abuse                     69         0    7767  \n",
       "Animal in a Park                  0         0       1  \n",
       "Bike/Roller/Skate Chronic         4         0     422  \n",
       "Blocked Driveway               1613        11   76752  \n",
       "Derelict Vehicle                247         2   17542  \n",
       "Disorderly Youth                  1         0     286  \n",
       "Drinking                         15         0    1272  \n",
       "Graffiti                          3         0     113  \n",
       "Homeless Encampment              33         0    4415  \n",
       "Illegal Fireworks                 1         0     168  \n",
       "Illegal Parking                 891       100   74311  \n",
       "Noise - Commercial              209         2   35185  \n",
       "Noise - House of Worship          3         0     929  \n",
       "Noise - Park                     38         0    4015  \n",
       "Noise - Street/Sidewalk         250         5   47986  \n",
       "Noise - Vehicle                 105         0   17027  \n",
       "Panhandling                       0         0     305  \n",
       "Posting Advertisement             0         0     648  \n",
       "Squeegee                          0         0       4  \n",
       "Traffic                          39         0    4494  \n",
       "Urinating in Public               8         0     592  \n",
       "Vending                          15         0    3794  \n",
       "All                            3544       120  298028  \n",
       "\n",
       "[23 rows x 54 columns]"
      ]
     },
     "execution_count": 79,
     "metadata": {},
     "output_type": "execute_result"
    }
   ],
   "source": [
    "pd.crosstab(data['Complaint Type'], data['City'], margins=True)"
   ]
  },
  {
   "cell_type": "code",
   "execution_count": 80,
   "metadata": {},
   "outputs": [],
   "source": [
    "ch2, p_value, df, exp_frq = stats.chi2_contingency(pd.crosstab(data['Complaint Type'], data['City']))"
   ]
  },
  {
   "cell_type": "code",
   "execution_count": 81,
   "metadata": {},
   "outputs": [
    {
     "name": "stdout",
     "output_type": "stream",
     "text": [
      "Chi-Square value is: 119737.34755994167\n",
      "P-Value is: 0.0\n"
     ]
    }
   ],
   "source": [
    "print(\"Chi-Square value is: \" + str(ch2))\n",
    "print(\"P-Value is: \" + str(p_value))"
   ]
  },
  {
   "cell_type": "markdown",
   "metadata": {},
   "source": [
    "#### Conclusion: P value is 0.0 less than 0.05 hence rejected Null hypothesis and accepted alternate hypothesis (Type of Complaint and Location are not related)"
   ]
  },
  {
   "cell_type": "code",
   "execution_count": null,
   "metadata": {},
   "outputs": [],
   "source": []
  }
 ],
 "metadata": {
  "kernelspec": {
   "display_name": "Python 3",
   "language": "python",
   "name": "python3"
  },
  "language_info": {
   "codemirror_mode": {
    "name": "ipython",
    "version": 3
   },
   "file_extension": ".py",
   "mimetype": "text/x-python",
   "name": "python",
   "nbconvert_exporter": "python",
   "pygments_lexer": "ipython3",
   "version": "3.7.6"
  }
 },
 "nbformat": 4,
 "nbformat_minor": 4
}
